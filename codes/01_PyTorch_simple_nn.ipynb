{
 "cells": [
  {
   "cell_type": "markdown",
   "metadata": {
    "colab_type": "text",
    "id": "W7BQOZrYhahu"
   },
   "source": [
    "# Classifying Fashion-MNIST\n",
    "\n",
    "Now we will construct a simple neural network which will perform\n",
    "classification of the\n",
    "[Fashion-MNIST](https://github.com/zalandoresearch/fashion-mnist) data set.\n",
    "Fashion MNIST is a replacement for \n",
    "[MNIST](http://yann.lecun.com/exdb/mnist/)\n",
    "data set.\n",
    "\n",
    "<img src='https://github.com/udacity/deep-learning-v2-pytorch/blob/master/intro-to-pytorch/assets/fashion-mnist-sprite.png?raw=1' width=500px>\n"
   ]
  },
  {
   "cell_type": "code",
   "execution_count": null,
   "metadata": {
    "colab": {
     "base_uri": "https://localhost:8080/",
     "height": 340
    },
    "colab_type": "code",
    "id": "PxIKzALThd3F",
    "outputId": "d3a77f21-f82f-48b2-facb-454fdc13549f"
   },
   "outputs": [
    {
     "name": "stdout",
     "output_type": "stream",
     "text": [
      "--2019-11-02 21:39:27--  https://raw.githubusercontent.com/udacity/deep-learning-v2-pytorch/master/intro-to-pytorch/helper.py\n",
      "Resolving raw.githubusercontent.com (raw.githubusercontent.com)... 151.101.0.133, 151.101.64.133, 151.101.128.133, ...\n",
      "Connecting to raw.githubusercontent.com (raw.githubusercontent.com)|151.101.0.133|:443... connected.\n",
      "HTTP request sent, awaiting response... 200 OK\n",
      "Length: 2813 (2.7K) [text/plain]\n",
      "Saving to: ‘helper.py.2’\n",
      "\n",
      "helper.py.2         100%[===================>]   2.75K  --.-KB/s    in 0s      \n",
      "\n",
      "2019-11-02 21:39:27 (59.7 MB/s) - ‘helper.py.2’ saved [2813/2813]\n",
      "\n",
      "Requirement already satisfied: torch in /usr/local/lib/python3.6/dist-packages (1.3.0+cu100)\n",
      "Requirement already satisfied: numpy in /usr/local/lib/python3.6/dist-packages (from torch) (1.17.3)\n",
      "Requirement already satisfied: torchvision in /usr/local/lib/python3.6/dist-packages (0.4.1+cu100)\n",
      "Requirement already satisfied: torch==1.3.0 in /usr/local/lib/python3.6/dist-packages (from torchvision) (1.3.0+cu100)\n",
      "Requirement already satisfied: pillow>=4.1.1 in /usr/local/lib/python3.6/dist-packages (from torchvision) (4.3.0)\n",
      "Requirement already satisfied: numpy in /usr/local/lib/python3.6/dist-packages (from torchvision) (1.17.3)\n",
      "Requirement already satisfied: six in /usr/local/lib/python3.6/dist-packages (from torchvision) (1.12.0)\n",
      "Requirement already satisfied: olefile in /usr/local/lib/python3.6/dist-packages (from pillow>=4.1.1->torchvision) (0.46)\n"
     ]
    }
   ],
   "source": [
    "# Set of helper function to help our work\n",
    "! wget https://raw.githubusercontent.com/udacity/deep-learning-v2-pytorch/master/intro-to-pytorch/helper.py\n",
    "\n",
    "# Install pytorch if required\n",
    "! pip install torch\n",
    "! pip install torchvision"
   ]
  },
  {
   "cell_type": "code",
   "execution_count": null,
   "metadata": {
    "colab": {},
    "colab_type": "code",
    "id": "dibLdopOjd6y"
   },
   "outputs": [],
   "source": [
    "import torch\n",
    "from torchvision import datasets, transforms\n",
    "from torch import nn\n",
    "from torch import optim\n",
    "import matplotlib.pyplot as plt\n",
    "%matplotlib inline\n",
    "import helper"
   ]
  },
  {
   "cell_type": "code",
   "execution_count": null,
   "metadata": {
    "colab": {
     "base_uri": "https://localhost:8080/",
     "height": 34
    },
    "colab_type": "code",
    "id": "mGz-CxXhq7ry",
    "outputId": "68ebb068-24b1-4cfd-a691-5d3b00083ba8"
   },
   "outputs": [
    {
     "data": {
      "text/plain": [
       "device(type='cuda')"
      ]
     },
     "execution_count": 3,
     "metadata": {
      "tags": []
     },
     "output_type": "execute_result"
    }
   ],
   "source": [
    "device = torch.device('cuda' if torch.cuda.is_available() else 'cpu')\n",
    "device"
   ]
  },
  {
   "cell_type": "code",
   "execution_count": null,
   "metadata": {
    "colab": {},
    "colab_type": "code",
    "id": "Gu3q_wJNF-Tg"
   },
   "outputs": [],
   "source": [
    "title_order = [\n",
    "    'T-shirt/top',\n",
    "    'Trouser',\n",
    "    'Pullover',\n",
    "    'Dress',\n",
    "    'Coat',\n",
    "    'Sandal',\n",
    "    'Shirt',\n",
    "    'Sneaker',\n",
    "    'Bag',\n",
    "    'Ankle Boot'\n",
    "]\n",
    "\n",
    "label_decoder = dict(zip(range(10), title_order))\n",
    "label_encoder = {v: k for k, v in label_decoder.items()}"
   ]
  },
  {
   "cell_type": "code",
   "execution_count": null,
   "metadata": {
    "colab": {},
    "colab_type": "code",
    "id": "yOnT4-5Mhah1"
   },
   "outputs": [],
   "source": [
    "# Perform normalization\n",
    "transform = transforms.Compose([transforms.ToTensor(),\n",
    "                               transforms.Normalize((0.5,), (0.5,))])\n",
    "# Download and load the train data\n",
    "trainset = datasets.FashionMNIST('~/.pytorch/F_MNIST_data/', download=True, train=True, transform=transform)\n",
    "trainloader = torch.utils.data.DataLoader(trainset, batch_size=64, shuffle=True)\n",
    "\n",
    "# Download and load the test data\n",
    "testset = datasets.FashionMNIST('~/.pytorch/F_MNIST_data/', download=True, train=False, transform=transform)\n",
    "testloader = torch.utils.data.DataLoader(testset, batch_size=64, shuffle=True)"
   ]
  },
  {
   "cell_type": "markdown",
   "metadata": {
    "colab_type": "text",
    "id": "97AKH2vshaiJ"
   },
   "source": [
    "Prikazujemo sliku."
   ]
  },
  {
   "cell_type": "code",
   "execution_count": null,
   "metadata": {
    "colab": {
     "base_uri": "https://localhost:8080/",
     "height": 299
    },
    "colab_type": "code",
    "id": "dp-zadWYhaiL",
    "outputId": "eb5535ca-3cc7-486c-8cba-40fefda68514"
   },
   "outputs": [
    {
     "name": "stdout",
     "output_type": "stream",
     "text": [
      "T-shirt/top\n"
     ]
    },
    {
     "data": {
      "text/plain": [
       "<matplotlib.image.AxesImage at 0x7faf51c6fc18>"
      ]
     },
     "execution_count": 6,
     "metadata": {
      "tags": []
     },
     "output_type": "execute_result"
    },
    {
     "data": {
      "image/png": "[encoded data removed]",
      "text/plain": [
       "<Figure size 432x288 with 1 Axes>"
      ]
     },
     "metadata": {
      "tags": []
     },
     "output_type": "display_data"
    }
   ],
   "source": [
    "image_batch, label = next(iter(trainloader))\n",
    "label_ix = label[0].item()\n",
    "image = image_batch[0, :]\n",
    "print(label_decoder[label_ix])\n",
    "\n",
    "# squeeze converts (1, 28, 28) into (28, 28),\n",
    "# which means, it removes all dimensions of size 1\n",
    "plt.imshow(image.squeeze(), cmap='gray')"
   ]
  },
  {
   "cell_type": "markdown",
   "metadata": {
    "colab_type": "text",
    "id": "itXy9pthhaiU"
   },
   "source": [
    "## Defining our neural network\n",
    "\n",
    "This is where we will define our network. Images are $28 \\times 28$,\n",
    "which gives $784$ pixels per image, with 10 different classes."
   ]
  },
  {
   "cell_type": "code",
   "execution_count": null,
   "metadata": {
    "colab": {},
    "colab_type": "code",
    "id": "jIMjJp5aoul5"
   },
   "outputs": [],
   "source": [
    "class FashionMnistNN_v1(nn.Module):\n",
    "    def __init__(self):\n",
    "        super().__init__()\n",
    "\n",
    "        self.fc1 = nn.Linear(784, 128)\n",
    "        self.fc2 = nn.Linear(128, 10)\n",
    "\n",
    "    def forward(self, x):\n",
    "        x = self.fc1(x)\n",
    "        x = nn.functional.relu(x, inplace=True)\n",
    "        x = self.fc2(x)\n",
    "        x = nn.functional.log_softmax(x, dim=1)\n",
    "        return x\n",
    "\n",
    "class FashionMnistNN_v2(nn.Module):\n",
    "    def __init__(self):\n",
    "        super().__init__()\n",
    "\n",
    "        self.fc1 = nn.Linear(784, 128)\n",
    "        self.fc2 = nn.Linear(128, 10)\n",
    "\n",
    "    def forward(self, x):\n",
    "        x = self.fc1(x)\n",
    "        x = nn.functional.relu(x, inplace=True)\n",
    "        x = self.fc2(x)\n",
    "        return x"
   ]
  },
  {
   "cell_type": "code",
   "execution_count": null,
   "metadata": {
    "colab": {},
    "colab_type": "code",
    "id": "HA0ZAI3yhaiW"
   },
   "outputs": [],
   "source": [
    "model = nn.Sequential(\n",
    "    # Linear transformation converts a shape of (batch_size, 784)\n",
    "    # into output (batch_size, 128).\n",
    "    nn.Linear(784, 128),\n",
    "    # Performs a ReLU activation after linear transformation.\n",
    "    nn.ReLU(),\n",
    "\n",
    "    nn.Linear(128, 64),\n",
    "    nn.ReLU(),\n",
    "    nn.Linear(64, 10),\n",
    "    \n",
    "    # Perform softmax and take the log of the values.\n",
    "    # Log is taken to help with numerical stability.\n",
    "    nn.LogSoftmax(dim=1)\n",
    ")"
   ]
  },
  {
   "cell_type": "markdown",
   "metadata": {
    "colab_type": "text",
    "id": "kkNxCBWAhaic"
   },
   "source": [
    "# Train the network\n",
    "\n",
    "Now you should create your network and train it. First you'll want to define [the criterion](http://pytorch.org/docs/master/nn.html#loss-functions) ( something like `nn.CrossEntropyLoss`) and [the optimizer](http://pytorch.org/docs/master/optim.html) (typically `optim.SGD` or `optim.Adam`).\n",
    "\n",
    "Then write the training code. Remember the training pass is a fairly straightforward process:\n",
    "\n",
    "* Make a forward pass through the network to get the logits \n",
    "* Use the logits to calculate the loss\n",
    "* Perform a backward pass through the network with `loss.backward()` to calculate the gradients\n",
    "* Take a step with the optimizer to update the weights\n",
    "\n",
    "By adjusting the hyperparameters (hidden units, learning rate, etc), you should be able to get the training loss below 0.4."
   ]
  },
  {
   "cell_type": "code",
   "execution_count": null,
   "metadata": {
    "colab": {},
    "colab_type": "code",
    "id": "tVNN5En7haie"
   },
   "outputs": [],
   "source": [
    "# TODO: Create the network, define the criterion and optimizer\n",
    "model = model.to(device)\n",
    "# model.cuda()\n",
    "optimizer = optim.Adam(model.parameters())\n",
    "criterion = nn.NLLLoss()"
   ]
  },
  {
   "cell_type": "code",
   "execution_count": null,
   "metadata": {
    "colab": {
     "base_uri": "https://localhost:8080/",
     "height": 136
    },
    "colab_type": "code",
    "id": "kKk6CD5ohaik",
    "outputId": "a52b2393-4e4d-4bae-de4e-b3642bcfd803"
   },
   "outputs": [
    {
     "name": "stdout",
     "output_type": "stream",
     "text": [
      "[1/5]: Loss: 488.4336212426424\n",
      "[2/5]: Loss: 359.33583876490593\n",
      "[3/5]: Loss: 323.1483301073313\n",
      "[4/5]: Loss: 298.8682597577572\n",
      "[5/5]: Loss: 280.9841764718294\n",
      "CPU times: user 1min 4s, sys: 402 ms, total: 1min 4s\n",
      "Wall time: 1min 5s\n"
     ]
    }
   ],
   "source": [
    "%%time\n",
    "# TODO: Train the network here\n",
    "epochs = 5\n",
    "losses = []\n",
    "\n",
    "for epoch in range(epochs):\n",
    "    # Iterate batch by batch\n",
    "    running_loss = 0\n",
    "    for images, labels in trainloader:\n",
    "        # Flatten the images\n",
    "        images = images.to(device)\n",
    "        images = images.view(images.shape[0], -1)\n",
    "        labels = labels.to(device)\n",
    "        \n",
    "        # Calculate predictions and loss\n",
    "        logprobs = model.forward(images)\n",
    "        loss = criterion(logprobs, labels)\n",
    "        \n",
    "        # Update gradients\n",
    "        optimizer.zero_grad()\n",
    "        loss.backward()\n",
    "        \n",
    "        # Update parameters\n",
    "        optimizer.step()\n",
    "        \n",
    "        running_loss += loss.item()\n",
    "\n",
    "    print('[{}/{}]: Loss: {}'.format(epoch + 1, epochs, running_loss))\n",
    "    losses.append(running_loss)"
   ]
  },
  {
   "cell_type": "code",
   "execution_count": null,
   "metadata": {
    "colab": {
     "base_uri": "https://localhost:8080/",
     "height": 282
    },
    "colab_type": "code",
    "id": "eqsvQtbNpvVu",
    "outputId": "208fbe53-256e-4cd3-c2b2-5c36f124b01d"
   },
   "outputs": [
    {
     "data": {
      "text/plain": [
       "[<matplotlib.lines.Line2D at 0x7faf51d6d550>]"
      ]
     },
     "execution_count": 11,
     "metadata": {
      "tags": []
     },
     "output_type": "execute_result"
    },
    {
     "data": {
      "image/png": "[encoded data removed]",
      "text/plain": [
       "<Figure size 432x288 with 1 Axes>"
      ]
     },
     "metadata": {
      "tags": []
     },
     "output_type": "display_data"
    }
   ],
   "source": [
    "plt.plot(range(epochs), losses)"
   ]
  },
  {
   "cell_type": "code",
   "execution_count": null,
   "metadata": {
    "colab": {},
    "colab_type": "code",
    "id": "a9gdtr0wu2wq"
   },
   "outputs": [],
   "source": [
    "model = FashionMnistNN_v1().to(device)\n",
    "optimizer = optim.Adam(model.parameters())\n",
    "criterion = nn.NLLLoss()"
   ]
  },
  {
   "cell_type": "code",
   "execution_count": null,
   "metadata": {
    "colab": {
     "base_uri": "https://localhost:8080/",
     "height": 136
    },
    "colab_type": "code",
    "id": "pfYpvoX-u25F",
    "outputId": "4717fd36-d55e-4c12-d392-3a3e29d89337"
   },
   "outputs": [
    {
     "name": "stdout",
     "output_type": "stream",
     "text": [
      "[1/5]: Loss: 470.5724892318249\n",
      "[2/5]: Loss: 354.2623184323311\n",
      "[3/5]: Loss: 321.66594064980745\n",
      "[4/5]: Loss: 297.8205808028579\n",
      "[5/5]: Loss: 280.53099643439054\n",
      "CPU times: user 1min 1s, sys: 377 ms, total: 1min 1s\n",
      "Wall time: 1min 2s\n"
     ]
    }
   ],
   "source": [
    "%%time\n",
    "# TODO: Train the network here\n",
    "epochs = 5\n",
    "losses = []\n",
    "\n",
    "for epoch in range(epochs):\n",
    "    # Iterate batch by batch\n",
    "    running_loss = 0\n",
    "    for images, labels in trainloader:\n",
    "        # Flatten the images\n",
    "        images = images.to(device)\n",
    "        images = images.view(images.shape[0], -1)\n",
    "        labels = labels.to(device)\n",
    "        \n",
    "        # Calculate predictions and loss\n",
    "        logprobs = model.forward(images)\n",
    "        loss = criterion(logprobs, labels)\n",
    "        \n",
    "        # Update gradients\n",
    "        optimizer.zero_grad()\n",
    "        loss.backward()\n",
    "        \n",
    "        # Update parameters\n",
    "        optimizer.step()\n",
    "        \n",
    "        running_loss += loss.item()\n",
    "\n",
    "    print('[{}/{}]: Loss: {}'.format(epoch + 1, epochs, running_loss))\n",
    "    losses.append(running_loss)"
   ]
  },
  {
   "cell_type": "code",
   "execution_count": null,
   "metadata": {
    "colab": {
     "base_uri": "https://localhost:8080/",
     "height": 282
    },
    "colab_type": "code",
    "id": "0aKu_YXVu27Y",
    "outputId": "3aa91b5e-78fa-485c-92a4-ddf72562305c"
   },
   "outputs": [
    {
     "data": {
      "text/plain": [
       "[<matplotlib.lines.Line2D at 0x7faf51cdb2e8>]"
      ]
     },
     "execution_count": 14,
     "metadata": {
      "tags": []
     },
     "output_type": "execute_result"
    },
    {
     "data": {
      "image/png": "[encoded data removed]",
      "text/plain": [
       "<Figure size 432x288 with 1 Axes>"
      ]
     },
     "metadata": {
      "tags": []
     },
     "output_type": "display_data"
    }
   ],
   "source": [
    "plt.plot(range(epochs), losses)"
   ]
  },
  {
   "cell_type": "code",
   "execution_count": null,
   "metadata": {
    "colab": {},
    "colab_type": "code",
    "id": "DjY-S9w7HuGH"
   },
   "outputs": [],
   "source": [
    "model = FashionMnistNN_v2().to(device)\n",
    "optimizer = optim.Adam(model.parameters())\n",
    "criterion = nn.CrossEntropyLoss()"
   ]
  },
  {
   "cell_type": "code",
   "execution_count": null,
   "metadata": {
    "colab": {
     "base_uri": "https://localhost:8080/",
     "height": 173
    },
    "colab_type": "code",
    "id": "1bVsxuZ7v1Uk",
    "outputId": "36f0bcff-0aaa-472b-a0c8-0d2debeee19e"
   },
   "outputs": [
    {
     "name": "stderr",
     "output_type": "stream",
     "text": [
      "/usr/local/lib/python3.6/dist-packages/ipykernel_launcher.py:23: UserWarning: Implicit dimension choice for softmax has been deprecated. Change the call to include dim=X as an argument.\n"
     ]
    },
    {
     "name": "stdout",
     "output_type": "stream",
     "text": [
      "[1/5]: Loss: 468.80149053037167 Acc: 0.8211833238601685\n",
      "[2/5]: Loss: 358.76784896850586 Acc: 0.8598833680152893\n",
      "[3/5]: Loss: 324.5759779959917 Acc: 0.8736166954040527\n",
      "[4/5]: Loss: 299.20042933523655 Acc: 0.8826000094413757\n",
      "[5/5]: Loss: 283.71231558918953 Acc: 0.8891167044639587\n",
      "CPU times: user 1min 2s, sys: 397 ms, total: 1min 2s\n",
      "Wall time: 1min 3s\n"
     ]
    }
   ],
   "source": [
    "%%time\n",
    "# TODO: Train the network here\n",
    "epochs = 5\n",
    "losses = []\n",
    "\n",
    "for epoch in range(epochs):\n",
    "    # Iterate batch by batch\n",
    "    running_loss = 0\n",
    "    running_corrects = 0\n",
    "    for images, labels in trainloader:\n",
    "        # Flatten the images\n",
    "        images = images.to(device)\n",
    "        images = images.view(images.shape[0], -1)\n",
    "        labels = labels.to(device)\n",
    "        \n",
    "        # Calculate predictions and loss\n",
    "        activations = model.forward(images)\n",
    "        loss = criterion(activations, labels)\n",
    "        \n",
    "        # Update gradients\n",
    "        optimizer.zero_grad()\n",
    "        loss.backward()\n",
    "        \n",
    "        softmax_vector = nn.functional.softmax(activations)\n",
    "        # print(activations.shape)\n",
    "        # print(labels.data.shape)\n",
    "        # print(softmax_vector.shape)\n",
    "        # print(softmax_vector)\n",
    "        softmax_ix = softmax_vector.argmax(dim=1)\n",
    "        # print(softmax_ix.shape)\n",
    "        \n",
    "        running_corrects += torch.sum(softmax_ix == labels.data)\n",
    "        # print(torch.sum(softmax_ix == labels.data)) \n",
    "        \n",
    "        # Update parameters\n",
    "        optimizer.step()\n",
    "        \n",
    "        running_loss += loss.item()\n",
    "\n",
    "    train_acc = running_corrects.float() / len(trainset)\n",
    "    print('[{}/{}]: Loss: {} Acc: {}'.format(epoch + 1, epochs, running_loss, train_acc))\n",
    "    losses.append(running_loss)"
   ]
  },
  {
   "cell_type": "code",
   "execution_count": null,
   "metadata": {
    "colab": {
     "base_uri": "https://localhost:8080/",
     "height": 233
    },
    "colab_type": "code",
    "id": "6dHvyOoLhaiq",
    "outputId": "c5ca373c-3fb9-4352-81b2-9efc3a8c36f3"
   },
   "outputs": [
    {
     "data": {
      "image/png": "[encoded data removed]",
      "text/plain": [
       "<Figure size 432x648 with 2 Axes>"
      ]
     },
     "metadata": {
      "image/png": {
       "height": 216,
       "width": 424
      },
      "tags": []
     },
     "output_type": "display_data"
    }
   ],
   "source": [
    "%matplotlib inline\n",
    "%config InlineBackend.figure_format = 'retina'\n",
    "\n",
    "import helper\n",
    "\n",
    "# Test out your network!\n",
    "\n",
    "dataiter = iter(testloader)\n",
    "images, labels = dataiter.next()\n",
    "images = images.to(device)\n",
    "labels = labels.to(device)\n",
    "\n",
    "img = images[0]\n",
    "# Convert 2D image to 1D vector\n",
    "img = img.resize_(1, 784)\n",
    "\n",
    "# TODO: Calculate the class probabilities (softmax) for img\n",
    "\n",
    "ps = model.forward(img)\n",
    "ps = torch.exp(ps).to('cpu')\n",
    "img = img.to('cpu')\n",
    "\n",
    "# Plot the image and probabilities\n",
    "helper.view_classify(img.resize_(1, 28, 28), ps, version='Fashion')"
   ]
  }
 ],
 "metadata": {
  "accelerator": "GPU",
  "colab": {
   "collapsed_sections": [],
   "name": "01-PyTorch-simple-nn.ipynb",
   "provenance": []
  },
  "kernelspec": {
   "display_name": "Python 3",
   "language": "python",
   "name": "python3"
  },
  "language_info": {
   "codemirror_mode": {
    "name": "ipython",
    "version": 3
   },
   "file_extension": ".py",
   "mimetype": "text/x-python",
   "name": "python",
   "nbconvert_exporter": "python",
   "pygments_lexer": "ipython3",
   "version": "3.7.4"
  }
 },
 "nbformat": 4,
 "nbformat_minor": 4
}
